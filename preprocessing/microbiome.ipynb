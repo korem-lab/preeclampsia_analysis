{
 "cells": [
  {
   "cell_type": "markdown",
   "metadata": {},
   "source": [
    "## Subsampling to 500K reads"
   ]
  },
  {
   "cell_type": "code",
   "execution_count": null,
   "metadata": {},
   "outputs": [],
   "source": [
    "%%bash\n",
    "\n",
    "seqtk sample -s100 path/to/read1.fastq 500000 | gzip > path/to/read1.sub.fastq.gz\n",
    "seqtk sample -s100 path/to/read2.fastq 500000 | gzip > path/to/read2.sub.fastq.gz"
   ]
  },
  {
   "cell_type": "markdown",
   "metadata": {},
   "source": [
    "## Kracken 2 + Bracken"
   ]
  },
  {
   "cell_type": "code",
   "execution_count": null,
   "metadata": {},
   "outputs": [],
   "source": [
    "%%bash\n",
    "\n",
    "# install from https://zenodo.org/records/10457006\n",
    "KRAKEN_DB=path/to/vmgc_db\n",
    "\n",
    "kraken2 --use-names --paired --threads 4 \\\n",
    "--db ${KRAKEN_DB} \\\n",
    "--output sample_out.kraken2.output.txt \\\n",
    "--report sample_out.kraken2.report.txt \\\n",
    "path/to/read1.sub.fastq.gz path/to/read2.sub.fastq.gz\n",
    "\n",
    "bracken -d ${KRAKEN_DB}  \\\n",
    "-i sample_out.kraken2.report.txt \\\n",
    "-o sample_out.bracken_species.tsv \\\n",
    "-l S"
   ]
  }
 ],
 "metadata": {
  "kernelspec": {
   "display_name": "sklearn",
   "language": "python",
   "name": "python3"
  },
  "language_info": {
   "codemirror_mode": {
    "name": "ipython",
    "version": 3
   },
   "file_extension": ".py",
   "mimetype": "text/x-python",
   "name": "python",
   "nbconvert_exporter": "python",
   "pygments_lexer": "ipython3",
   "version": "3.10.14"
  }
 },
 "nbformat": 4,
 "nbformat_minor": 2
}
